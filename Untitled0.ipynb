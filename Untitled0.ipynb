{
  "nbformat": 4,
  "nbformat_minor": 0,
  "metadata": {
    "colab": {
      "provenance": [],
      "gpuType": "T4"
    },
    "kernelspec": {
      "name": "python3",
      "display_name": "Python 3"
    },
    "language_info": {
      "name": "python"
    },
    "accelerator": "GPU"
  },
  "cells": [
    {
      "cell_type": "code",
      "execution_count": null,
      "metadata": {
        "colab": {
          "base_uri": "https://localhost:8080/"
        },
        "id": "vOH2RmihiYNX",
        "outputId": "9cdf45b6-e34e-4e31-9b3e-fb28e79cc928"
      },
      "outputs": [
        {
          "output_type": "stream",
          "name": "stdout",
          "text": [
            "Requirement already satisfied: pandas in /usr/local/lib/python3.10/dist-packages (from -r setup.txt (line 1)) (2.2.2)\n",
            "Requirement already satisfied: keras in /usr/local/lib/python3.10/dist-packages (from -r setup.txt (line 2)) (3.5.0)\n",
            "Requirement already satisfied: matplotlib in /usr/local/lib/python3.10/dist-packages (from -r setup.txt (line 3)) (3.8.0)\n",
            "Requirement already satisfied: tensorflow in /usr/local/lib/python3.10/dist-packages (from -r setup.txt (line 4)) (2.17.1)\n",
            "Requirement already satisfied: librosa in /usr/local/lib/python3.10/dist-packages (from -r setup.txt (line 5)) (0.10.2.post1)\n",
            "Collecting path.py (from -r setup.txt (line 6))\n",
            "  Downloading path.py-12.5.0-py3-none-any.whl.metadata (1.3 kB)\n",
            "Requirement already satisfied: pillow in /usr/local/lib/python3.10/dist-packages (from -r setup.txt (line 7)) (11.0.0)\n",
            "Requirement already satisfied: numpy>=1.22.4 in /usr/local/lib/python3.10/dist-packages (from pandas->-r setup.txt (line 1)) (1.26.4)\n",
            "Requirement already satisfied: python-dateutil>=2.8.2 in /usr/local/lib/python3.10/dist-packages (from pandas->-r setup.txt (line 1)) (2.8.2)\n",
            "Requirement already satisfied: pytz>=2020.1 in /usr/local/lib/python3.10/dist-packages (from pandas->-r setup.txt (line 1)) (2024.2)\n",
            "Requirement already satisfied: tzdata>=2022.7 in /usr/local/lib/python3.10/dist-packages (from pandas->-r setup.txt (line 1)) (2024.2)\n",
            "Requirement already satisfied: absl-py in /usr/local/lib/python3.10/dist-packages (from keras->-r setup.txt (line 2)) (1.4.0)\n",
            "Requirement already satisfied: rich in /usr/local/lib/python3.10/dist-packages (from keras->-r setup.txt (line 2)) (13.9.4)\n",
            "Requirement already satisfied: namex in /usr/local/lib/python3.10/dist-packages (from keras->-r setup.txt (line 2)) (0.0.8)\n",
            "Requirement already satisfied: h5py in /usr/local/lib/python3.10/dist-packages (from keras->-r setup.txt (line 2)) (3.12.1)\n",
            "Requirement already satisfied: optree in /usr/local/lib/python3.10/dist-packages (from keras->-r setup.txt (line 2)) (0.13.1)\n",
            "Requirement already satisfied: ml-dtypes in /usr/local/lib/python3.10/dist-packages (from keras->-r setup.txt (line 2)) (0.4.1)\n",
            "Requirement already satisfied: packaging in /usr/local/lib/python3.10/dist-packages (from keras->-r setup.txt (line 2)) (24.2)\n",
            "Requirement already satisfied: contourpy>=1.0.1 in /usr/local/lib/python3.10/dist-packages (from matplotlib->-r setup.txt (line 3)) (1.3.1)\n",
            "Requirement already satisfied: cycler>=0.10 in /usr/local/lib/python3.10/dist-packages (from matplotlib->-r setup.txt (line 3)) (0.12.1)\n",
            "Requirement already satisfied: fonttools>=4.22.0 in /usr/local/lib/python3.10/dist-packages (from matplotlib->-r setup.txt (line 3)) (4.55.3)\n",
            "Requirement already satisfied: kiwisolver>=1.0.1 in /usr/local/lib/python3.10/dist-packages (from matplotlib->-r setup.txt (line 3)) (1.4.7)\n",
            "Requirement already satisfied: pyparsing>=2.3.1 in /usr/local/lib/python3.10/dist-packages (from matplotlib->-r setup.txt (line 3)) (3.2.0)\n",
            "Requirement already satisfied: astunparse>=1.6.0 in /usr/local/lib/python3.10/dist-packages (from tensorflow->-r setup.txt (line 4)) (1.6.3)\n",
            "Requirement already satisfied: flatbuffers>=24.3.25 in /usr/local/lib/python3.10/dist-packages (from tensorflow->-r setup.txt (line 4)) (24.3.25)\n",
            "Requirement already satisfied: gast!=0.5.0,!=0.5.1,!=0.5.2,>=0.2.1 in /usr/local/lib/python3.10/dist-packages (from tensorflow->-r setup.txt (line 4)) (0.6.0)\n",
            "Requirement already satisfied: google-pasta>=0.1.1 in /usr/local/lib/python3.10/dist-packages (from tensorflow->-r setup.txt (line 4)) (0.2.0)\n",
            "Requirement already satisfied: libclang>=13.0.0 in /usr/local/lib/python3.10/dist-packages (from tensorflow->-r setup.txt (line 4)) (18.1.1)\n",
            "Requirement already satisfied: opt-einsum>=2.3.2 in /usr/local/lib/python3.10/dist-packages (from tensorflow->-r setup.txt (line 4)) (3.4.0)\n",
            "Requirement already satisfied: protobuf!=4.21.0,!=4.21.1,!=4.21.2,!=4.21.3,!=4.21.4,!=4.21.5,<5.0.0dev,>=3.20.3 in /usr/local/lib/python3.10/dist-packages (from tensorflow->-r setup.txt (line 4)) (4.25.5)\n",
            "Requirement already satisfied: requests<3,>=2.21.0 in /usr/local/lib/python3.10/dist-packages (from tensorflow->-r setup.txt (line 4)) (2.32.3)\n",
            "Requirement already satisfied: setuptools in /usr/local/lib/python3.10/dist-packages (from tensorflow->-r setup.txt (line 4)) (75.1.0)\n",
            "Requirement already satisfied: six>=1.12.0 in /usr/local/lib/python3.10/dist-packages (from tensorflow->-r setup.txt (line 4)) (1.17.0)\n",
            "Requirement already satisfied: termcolor>=1.1.0 in /usr/local/lib/python3.10/dist-packages (from tensorflow->-r setup.txt (line 4)) (2.5.0)\n",
            "Requirement already satisfied: typing-extensions>=3.6.6 in /usr/local/lib/python3.10/dist-packages (from tensorflow->-r setup.txt (line 4)) (4.12.2)\n",
            "Requirement already satisfied: wrapt>=1.11.0 in /usr/local/lib/python3.10/dist-packages (from tensorflow->-r setup.txt (line 4)) (1.17.0)\n",
            "Requirement already satisfied: grpcio<2.0,>=1.24.3 in /usr/local/lib/python3.10/dist-packages (from tensorflow->-r setup.txt (line 4)) (1.68.1)\n",
            "Requirement already satisfied: tensorboard<2.18,>=2.17 in /usr/local/lib/python3.10/dist-packages (from tensorflow->-r setup.txt (line 4)) (2.17.1)\n",
            "Requirement already satisfied: tensorflow-io-gcs-filesystem>=0.23.1 in /usr/local/lib/python3.10/dist-packages (from tensorflow->-r setup.txt (line 4)) (0.37.1)\n",
            "Requirement already satisfied: audioread>=2.1.9 in /usr/local/lib/python3.10/dist-packages (from librosa->-r setup.txt (line 5)) (3.0.1)\n",
            "Requirement already satisfied: scipy>=1.2.0 in /usr/local/lib/python3.10/dist-packages (from librosa->-r setup.txt (line 5)) (1.13.1)\n",
            "Requirement already satisfied: scikit-learn>=0.20.0 in /usr/local/lib/python3.10/dist-packages (from librosa->-r setup.txt (line 5)) (1.6.0)\n",
            "Requirement already satisfied: joblib>=0.14 in /usr/local/lib/python3.10/dist-packages (from librosa->-r setup.txt (line 5)) (1.4.2)\n",
            "Requirement already satisfied: decorator>=4.3.0 in /usr/local/lib/python3.10/dist-packages (from librosa->-r setup.txt (line 5)) (4.4.2)\n",
            "Requirement already satisfied: numba>=0.51.0 in /usr/local/lib/python3.10/dist-packages (from librosa->-r setup.txt (line 5)) (0.60.0)\n",
            "Requirement already satisfied: soundfile>=0.12.1 in /usr/local/lib/python3.10/dist-packages (from librosa->-r setup.txt (line 5)) (0.12.1)\n",
            "Requirement already satisfied: pooch>=1.1 in /usr/local/lib/python3.10/dist-packages (from librosa->-r setup.txt (line 5)) (1.8.2)\n",
            "Requirement already satisfied: soxr>=0.3.2 in /usr/local/lib/python3.10/dist-packages (from librosa->-r setup.txt (line 5)) (0.5.0.post1)\n",
            "Requirement already satisfied: lazy-loader>=0.1 in /usr/local/lib/python3.10/dist-packages (from librosa->-r setup.txt (line 5)) (0.4)\n",
            "Requirement already satisfied: msgpack>=1.0 in /usr/local/lib/python3.10/dist-packages (from librosa->-r setup.txt (line 5)) (1.1.0)\n",
            "Collecting path (from path.py->-r setup.txt (line 6))\n",
            "  Downloading path-17.1.0-py3-none-any.whl.metadata (6.4 kB)\n",
            "Requirement already satisfied: wheel<1.0,>=0.23.0 in /usr/local/lib/python3.10/dist-packages (from astunparse>=1.6.0->tensorflow->-r setup.txt (line 4)) (0.45.1)\n",
            "Requirement already satisfied: llvmlite<0.44,>=0.43.0dev0 in /usr/local/lib/python3.10/dist-packages (from numba>=0.51.0->librosa->-r setup.txt (line 5)) (0.43.0)\n",
            "Requirement already satisfied: platformdirs>=2.5.0 in /usr/local/lib/python3.10/dist-packages (from pooch>=1.1->librosa->-r setup.txt (line 5)) (4.3.6)\n",
            "Requirement already satisfied: charset-normalizer<4,>=2 in /usr/local/lib/python3.10/dist-packages (from requests<3,>=2.21.0->tensorflow->-r setup.txt (line 4)) (3.4.0)\n",
            "Requirement already satisfied: idna<4,>=2.5 in /usr/local/lib/python3.10/dist-packages (from requests<3,>=2.21.0->tensorflow->-r setup.txt (line 4)) (3.10)\n",
            "Requirement already satisfied: urllib3<3,>=1.21.1 in /usr/local/lib/python3.10/dist-packages (from requests<3,>=2.21.0->tensorflow->-r setup.txt (line 4)) (2.2.3)\n",
            "Requirement already satisfied: certifi>=2017.4.17 in /usr/local/lib/python3.10/dist-packages (from requests<3,>=2.21.0->tensorflow->-r setup.txt (line 4)) (2024.12.14)\n",
            "Requirement already satisfied: threadpoolctl>=3.1.0 in /usr/local/lib/python3.10/dist-packages (from scikit-learn>=0.20.0->librosa->-r setup.txt (line 5)) (3.5.0)\n",
            "Requirement already satisfied: cffi>=1.0 in /usr/local/lib/python3.10/dist-packages (from soundfile>=0.12.1->librosa->-r setup.txt (line 5)) (1.17.1)\n",
            "Requirement already satisfied: markdown>=2.6.8 in /usr/local/lib/python3.10/dist-packages (from tensorboard<2.18,>=2.17->tensorflow->-r setup.txt (line 4)) (3.7)\n",
            "Requirement already satisfied: tensorboard-data-server<0.8.0,>=0.7.0 in /usr/local/lib/python3.10/dist-packages (from tensorboard<2.18,>=2.17->tensorflow->-r setup.txt (line 4)) (0.7.2)\n",
            "Requirement already satisfied: werkzeug>=1.0.1 in /usr/local/lib/python3.10/dist-packages (from tensorboard<2.18,>=2.17->tensorflow->-r setup.txt (line 4)) (3.1.3)\n",
            "Requirement already satisfied: markdown-it-py>=2.2.0 in /usr/local/lib/python3.10/dist-packages (from rich->keras->-r setup.txt (line 2)) (3.0.0)\n",
            "Requirement already satisfied: pygments<3.0.0,>=2.13.0 in /usr/local/lib/python3.10/dist-packages (from rich->keras->-r setup.txt (line 2)) (2.18.0)\n",
            "Requirement already satisfied: pycparser in /usr/local/lib/python3.10/dist-packages (from cffi>=1.0->soundfile>=0.12.1->librosa->-r setup.txt (line 5)) (2.22)\n",
            "Requirement already satisfied: mdurl~=0.1 in /usr/local/lib/python3.10/dist-packages (from markdown-it-py>=2.2.0->rich->keras->-r setup.txt (line 2)) (0.1.2)\n",
            "Requirement already satisfied: MarkupSafe>=2.1.1 in /usr/local/lib/python3.10/dist-packages (from werkzeug>=1.0.1->tensorboard<2.18,>=2.17->tensorflow->-r setup.txt (line 4)) (3.0.2)\n",
            "Downloading path.py-12.5.0-py3-none-any.whl (2.3 kB)\n",
            "Downloading path-17.1.0-py3-none-any.whl (23 kB)\n",
            "Installing collected packages: path, path.py\n",
            "Successfully installed path-17.1.0 path.py-12.5.0\n"
          ]
        }
      ],
      "source": [
        "!pip install -r setup.txt"
      ]
    },
    {
      "cell_type": "code",
      "source": [
        "!pip install keras-preprocessing\n",
        "!pip inastall keras.layers.advanced_activations\n"
      ],
      "metadata": {
        "colab": {
          "base_uri": "https://localhost:8080/"
        },
        "id": "w9uh1eCYj6tn",
        "outputId": "4b626d93-1d6e-4a14-e3e5-5ceaec48bcf6"
      },
      "execution_count": null,
      "outputs": [
        {
          "output_type": "stream",
          "name": "stdout",
          "text": [
            "Collecting keras-preprocessing\n",
            "  Downloading Keras_Preprocessing-1.1.2-py2.py3-none-any.whl.metadata (1.9 kB)\n",
            "Requirement already satisfied: numpy>=1.9.1 in /usr/local/lib/python3.10/dist-packages (from keras-preprocessing) (1.26.4)\n",
            "Requirement already satisfied: six>=1.9.0 in /usr/local/lib/python3.10/dist-packages (from keras-preprocessing) (1.17.0)\n",
            "Downloading Keras_Preprocessing-1.1.2-py2.py3-none-any.whl (42 kB)\n",
            "\u001b[?25l   \u001b[90m━━━━━━━━━━━━━━━━━━━━━━━━━━━━━━━━━━━━━━━━\u001b[0m \u001b[32m0.0/42.6 kB\u001b[0m \u001b[31m?\u001b[0m eta \u001b[36m-:--:--\u001b[0m\r\u001b[2K   \u001b[90m━━━━━━━━━━━━━━━━━━━━━━━━━━━━━━━━━━━━━━━━\u001b[0m \u001b[32m42.6/42.6 kB\u001b[0m \u001b[31m1.6 MB/s\u001b[0m eta \u001b[36m0:00:00\u001b[0m\n",
            "\u001b[?25hInstalling collected packages: keras-preprocessing\n",
            "Successfully installed keras-preprocessing-1.1.2\n"
          ]
        }
      ]
    },
    {
      "cell_type": "code",
      "source": [
        "!python preprocessing.py"
      ],
      "metadata": {
        "colab": {
          "base_uri": "https://localhost:8080/"
        },
        "id": "bN3wn1QSi91P",
        "outputId": "9d874852-61ce-4170-85ea-758056ba07c9"
      },
      "execution_count": null,
      "outputs": [
        {
          "output_type": "stream",
          "name": "stdout",
          "text": [
            "2025-01-05 08:30:33.278568: E external/local_xla/xla/stream_executor/cuda/cuda_fft.cc:485] Unable to register cuFFT factory: Attempting to register factory for plugin cuFFT when one has already been registered\n",
            "2025-01-05 08:30:33.298457: E external/local_xla/xla/stream_executor/cuda/cuda_dnn.cc:8454] Unable to register cuDNN factory: Attempting to register factory for plugin cuDNN when one has already been registered\n",
            "2025-01-05 08:30:33.304387: E external/local_xla/xla/stream_executor/cuda/cuda_blas.cc:1452] Unable to register cuBLAS factory: Attempting to register factory for plugin cuBLAS when one has already been registered\n",
            "2025-01-05 08:30:33.318798: I tensorflow/core/platform/cpu_feature_guard.cc:210] This TensorFlow binary is optimized to use available CPU instructions in performance-critical operations.\n",
            "To enable the following instructions: AVX2 FMA, in other operations, rebuild TensorFlow with the appropriate compiler flags.\n",
            "2025-01-05 08:30:34.430136: W tensorflow/compiler/tf2tensorrt/utils/py_utils.cc:38] TF-TRT Warning: Could not find TensorRT\n",
            "Process done!\n"
          ]
        }
      ]
    },
    {
      "cell_type": "code",
      "source": [
        "import requests\n",
        "\n",
        "# Đường dẫn đến tệp Mediafire\n",
        "url = \"https://download1585.mediafire.com/qwah4zqwbgzgewd6Xr0BhThNnYvJk_w2aNec8i3zFmCGBY1TInjyQMhwsKPInG90WJsdjQnmdtwPvJkQhofiolpv8ZPQ7_prqRZb-XAJWCmNx9aQC_lMnGS2w9y3eGOjZaK53RvfWX839jwy6C6XjfAzEVKcbT3oJaZtvlDiDsKkuA/e1baktuo93pi923/datawav.zip\"\n",
        "\n",
        "# Gửi yêu cầu tải về\n",
        "response = requests.get(url, stream=True)\n",
        "\n",
        "# Kiểm tra nếu tải thành công\n",
        "if response.status_code == 200:\n",
        "    with open(\"/content/datawav.zip\", \"wb\") as f:\n",
        "        for chunk in response.iter_content(chunk_size=1024):\n",
        "            f.write(chunk)\n",
        "else:\n",
        "    print(f\"Error: {response.status_code}\")\n",
        "!file /content/datawav.zip\n",
        "\n",
        "# # Giải nén tệp\n",
        "# import zipfile\n",
        "# with zipfile.ZipFile(\"/content/datawav.zip\", 'r') as zip_ref:\n",
        "#     zip_ref.extractall(\"/content/\")\n"
      ],
      "metadata": {
        "colab": {
          "base_uri": "https://localhost:8080/"
        },
        "id": "k3e6FJEZqmRA",
        "outputId": "8b392547-0ceb-429c-e5a5-62a8222a3b5d"
      },
      "execution_count": null,
      "outputs": [
        {
          "output_type": "stream",
          "name": "stdout",
          "text": [
            "/content/datawav.zip: HTML document, ASCII text, with very long lines (9185)\n"
          ]
        }
      ]
    },
    {
      "cell_type": "code",
      "source": [
        "!python train_model.py"
      ],
      "metadata": {
        "colab": {
          "base_uri": "https://localhost:8080/"
        },
        "id": "b8-Kvt1tk1Gv",
        "outputId": "bb9b20a6-4592-449b-a8cc-725c838a1d45"
      },
      "execution_count": null,
      "outputs": [
        {
          "output_type": "stream",
          "name": "stdout",
          "text": [
            "2025-01-05 08:48:42.372928: E external/local_xla/xla/stream_executor/cuda/cuda_fft.cc:477] Unable to register cuFFT factory: Attempting to register factory for plugin cuFFT when one has already been registered\n",
            "WARNING: All log messages before absl::InitializeLog() is called are written to STDERR\n",
            "E0000 00:00:1736066922.399688    7491 cuda_dnn.cc:8310] Unable to register cuDNN factory: Attempting to register factory for plugin cuDNN when one has already been registered\n",
            "E0000 00:00:1736066922.406951    7491 cuda_blas.cc:1418] Unable to register cuBLAS factory: Attempting to register factory for plugin cuBLAS when one has already been registered\n",
            "2025-01-05 08:48:42.428551: I tensorflow/core/platform/cpu_feature_guard.cc:210] This TensorFlow binary is optimized to use available CPU instructions in performance-critical operations.\n",
            "To enable the following instructions: AVX2 FMA, in other operations, rebuild TensorFlow with the appropriate compiler flags.\n",
            "/usr/local/lib/python3.10/dist-packages/keras/src/legacy/preprocessing/image.py:920: UserWarning: Found 8732 invalid image filename(s) in x_col=\"slice_file_name\". These filename(s) will be ignored.\n",
            "  warnings.warn(\n",
            "Found 0 validated image filenames belonging to 0 classes.\n",
            "/usr/local/lib/python3.10/dist-packages/keras/src/legacy/preprocessing/image.py:920: UserWarning: Found 8732 invalid image filename(s) in x_col=\"slice_file_name\". These filename(s) will be ignored.\n",
            "  warnings.warn(\n",
            "Found 0 validated image filenames belonging to 0 classes.\n",
            "/usr/local/lib/python3.10/dist-packages/keras/src/layers/convolutional/base_conv.py:107: UserWarning: Do not pass an `input_shape`/`input_dim` argument to a layer. When using Sequential models, prefer using an `Input(shape)` object as the first layer in the model instead.\n",
            "  super().__init__(activity_regularizer=activity_regularizer, **kwargs)\n",
            "2025-01-05 08:48:45.573746: W tensorflow/core/common_runtime/gpu/gpu_bfc_allocator.cc:47] Overriding orig_value setting because the TF_FORCE_GPU_ALLOW_GROWTH environment variable is set. Original config value was 0.\n",
            "I0000 00:00:1736066925.573925    7491 gpu_device.cc:2022] Created device /job:localhost/replica:0/task:0/device:GPU:0 with 13949 MB memory:  -> device: 0, name: Tesla T4, pci bus id: 0000:00:04.0, compute capability: 7.5\n",
            "/usr/local/lib/python3.10/dist-packages/keras/src/optimizers/base_optimizer.py:86: UserWarning: Argument `decay` is no longer supported and will be ignored.\n",
            "  warnings.warn(\n",
            "\u001b[1mModel: \"sequential\"\u001b[0m\n",
            "┏━━━━━━━━━━━━━━━━━━━━━━━━━━━━━━━━━━━━━━┳━━━━━━━━━━━━━━━━━━━━━━━━━━━━━┳━━━━━━━━━━━━━━━━━┓\n",
            "┃\u001b[1m \u001b[0m\u001b[1mLayer (type)                        \u001b[0m\u001b[1m \u001b[0m┃\u001b[1m \u001b[0m\u001b[1mOutput Shape               \u001b[0m\u001b[1m \u001b[0m┃\u001b[1m \u001b[0m\u001b[1m        Param #\u001b[0m\u001b[1m \u001b[0m┃\n",
            "┡━━━━━━━━━━━━━━━━━━━━━━━━━━━━━━━━━━━━━━╇━━━━━━━━━━━━━━━━━━━━━━━━━━━━━╇━━━━━━━━━━━━━━━━━┩\n",
            "│ conv2d (\u001b[94mConv2D\u001b[0m)                      │ (\u001b[96mNone\u001b[0m, \u001b[32m64\u001b[0m, \u001b[32m64\u001b[0m, \u001b[32m32\u001b[0m)          │             \u001b[32m896\u001b[0m │\n",
            "├──────────────────────────────────────┼─────────────────────────────┼─────────────────┤\n",
            "│ activation (\u001b[94mActivation\u001b[0m)              │ (\u001b[96mNone\u001b[0m, \u001b[32m64\u001b[0m, \u001b[32m64\u001b[0m, \u001b[32m32\u001b[0m)          │               \u001b[32m0\u001b[0m │\n",
            "├──────────────────────────────────────┼─────────────────────────────┼─────────────────┤\n",
            "│ conv2d_1 (\u001b[94mConv2D\u001b[0m)                    │ (\u001b[96mNone\u001b[0m, \u001b[32m62\u001b[0m, \u001b[32m62\u001b[0m, \u001b[32m64\u001b[0m)          │          \u001b[32m18,496\u001b[0m │\n",
            "├──────────────────────────────────────┼─────────────────────────────┼─────────────────┤\n",
            "│ activation_1 (\u001b[94mActivation\u001b[0m)            │ (\u001b[96mNone\u001b[0m, \u001b[32m62\u001b[0m, \u001b[32m62\u001b[0m, \u001b[32m64\u001b[0m)          │               \u001b[32m0\u001b[0m │\n",
            "├──────────────────────────────────────┼─────────────────────────────┼─────────────────┤\n",
            "│ max_pooling2d (\u001b[94mMaxPooling2D\u001b[0m)         │ (\u001b[96mNone\u001b[0m, \u001b[32m31\u001b[0m, \u001b[32m31\u001b[0m, \u001b[32m64\u001b[0m)          │               \u001b[32m0\u001b[0m │\n",
            "├──────────────────────────────────────┼─────────────────────────────┼─────────────────┤\n",
            "│ dropout (\u001b[94mDropout\u001b[0m)                    │ (\u001b[96mNone\u001b[0m, \u001b[32m31\u001b[0m, \u001b[32m31\u001b[0m, \u001b[32m64\u001b[0m)          │               \u001b[32m0\u001b[0m │\n",
            "├──────────────────────────────────────┼─────────────────────────────┼─────────────────┤\n",
            "│ conv2d_2 (\u001b[94mConv2D\u001b[0m)                    │ (\u001b[96mNone\u001b[0m, \u001b[32m31\u001b[0m, \u001b[32m31\u001b[0m, \u001b[32m64\u001b[0m)          │          \u001b[32m36,928\u001b[0m │\n",
            "├──────────────────────────────────────┼─────────────────────────────┼─────────────────┤\n",
            "│ activation_2 (\u001b[94mActivation\u001b[0m)            │ (\u001b[96mNone\u001b[0m, \u001b[32m31\u001b[0m, \u001b[32m31\u001b[0m, \u001b[32m64\u001b[0m)          │               \u001b[32m0\u001b[0m │\n",
            "├──────────────────────────────────────┼─────────────────────────────┼─────────────────┤\n",
            "│ conv2d_3 (\u001b[94mConv2D\u001b[0m)                    │ (\u001b[96mNone\u001b[0m, \u001b[32m29\u001b[0m, \u001b[32m29\u001b[0m, \u001b[32m64\u001b[0m)          │          \u001b[32m36,928\u001b[0m │\n",
            "├──────────────────────────────────────┼─────────────────────────────┼─────────────────┤\n",
            "│ activation_3 (\u001b[94mActivation\u001b[0m)            │ (\u001b[96mNone\u001b[0m, \u001b[32m29\u001b[0m, \u001b[32m29\u001b[0m, \u001b[32m64\u001b[0m)          │               \u001b[32m0\u001b[0m │\n",
            "├──────────────────────────────────────┼─────────────────────────────┼─────────────────┤\n",
            "│ max_pooling2d_1 (\u001b[94mMaxPooling2D\u001b[0m)       │ (\u001b[96mNone\u001b[0m, \u001b[32m14\u001b[0m, \u001b[32m14\u001b[0m, \u001b[32m64\u001b[0m)          │               \u001b[32m0\u001b[0m │\n",
            "├──────────────────────────────────────┼─────────────────────────────┼─────────────────┤\n",
            "│ dropout_1 (\u001b[94mDropout\u001b[0m)                  │ (\u001b[96mNone\u001b[0m, \u001b[32m14\u001b[0m, \u001b[32m14\u001b[0m, \u001b[32m64\u001b[0m)          │               \u001b[32m0\u001b[0m │\n",
            "├──────────────────────────────────────┼─────────────────────────────┼─────────────────┤\n",
            "│ conv2d_4 (\u001b[94mConv2D\u001b[0m)                    │ (\u001b[96mNone\u001b[0m, \u001b[32m14\u001b[0m, \u001b[32m14\u001b[0m, \u001b[32m128\u001b[0m)         │          \u001b[32m73,856\u001b[0m │\n",
            "├──────────────────────────────────────┼─────────────────────────────┼─────────────────┤\n",
            "│ activation_4 (\u001b[94mActivation\u001b[0m)            │ (\u001b[96mNone\u001b[0m, \u001b[32m14\u001b[0m, \u001b[32m14\u001b[0m, \u001b[32m128\u001b[0m)         │               \u001b[32m0\u001b[0m │\n",
            "├──────────────────────────────────────┼─────────────────────────────┼─────────────────┤\n",
            "│ conv2d_5 (\u001b[94mConv2D\u001b[0m)                    │ (\u001b[96mNone\u001b[0m, \u001b[32m12\u001b[0m, \u001b[32m12\u001b[0m, \u001b[32m128\u001b[0m)         │         \u001b[32m147,584\u001b[0m │\n",
            "├──────────────────────────────────────┼─────────────────────────────┼─────────────────┤\n",
            "│ activation_5 (\u001b[94mActivation\u001b[0m)            │ (\u001b[96mNone\u001b[0m, \u001b[32m12\u001b[0m, \u001b[32m12\u001b[0m, \u001b[32m128\u001b[0m)         │               \u001b[32m0\u001b[0m │\n",
            "├──────────────────────────────────────┼─────────────────────────────┼─────────────────┤\n",
            "│ max_pooling2d_2 (\u001b[94mMaxPooling2D\u001b[0m)       │ (\u001b[96mNone\u001b[0m, \u001b[32m6\u001b[0m, \u001b[32m6\u001b[0m, \u001b[32m128\u001b[0m)           │               \u001b[32m0\u001b[0m │\n",
            "├──────────────────────────────────────┼─────────────────────────────┼─────────────────┤\n",
            "│ dropout_2 (\u001b[94mDropout\u001b[0m)                  │ (\u001b[96mNone\u001b[0m, \u001b[32m6\u001b[0m, \u001b[32m6\u001b[0m, \u001b[32m128\u001b[0m)           │               \u001b[32m0\u001b[0m │\n",
            "├──────────────────────────────────────┼─────────────────────────────┼─────────────────┤\n",
            "│ flatten (\u001b[94mFlatten\u001b[0m)                    │ (\u001b[96mNone\u001b[0m, \u001b[32m4608\u001b[0m)                │               \u001b[32m0\u001b[0m │\n",
            "├──────────────────────────────────────┼─────────────────────────────┼─────────────────┤\n",
            "│ dense (\u001b[94mDense\u001b[0m)                        │ (\u001b[96mNone\u001b[0m, \u001b[32m512\u001b[0m)                 │       \u001b[32m2,359,808\u001b[0m │\n",
            "├──────────────────────────────────────┼─────────────────────────────┼─────────────────┤\n",
            "│ activation_6 (\u001b[94mActivation\u001b[0m)            │ (\u001b[96mNone\u001b[0m, \u001b[32m512\u001b[0m)                 │               \u001b[32m0\u001b[0m │\n",
            "├──────────────────────────────────────┼─────────────────────────────┼─────────────────┤\n",
            "│ dropout_3 (\u001b[94mDropout\u001b[0m)                  │ (\u001b[96mNone\u001b[0m, \u001b[32m512\u001b[0m)                 │               \u001b[32m0\u001b[0m │\n",
            "├──────────────────────────────────────┼─────────────────────────────┼─────────────────┤\n",
            "│ dense_1 (\u001b[94mDense\u001b[0m)                      │ (\u001b[96mNone\u001b[0m, \u001b[32m10\u001b[0m)                  │           \u001b[32m5,130\u001b[0m │\n",
            "└──────────────────────────────────────┴─────────────────────────────┴─────────────────┘\n",
            "\u001b[1m Total params: \u001b[0m\u001b[32m2,679,626\u001b[0m (10.22 MB)\n",
            "\u001b[1m Trainable params: \u001b[0m\u001b[32m2,679,626\u001b[0m (10.22 MB)\n",
            "\u001b[1m Non-trainable params: \u001b[0m\u001b[32m0\u001b[0m (0.00 B)\n",
            "/usr/local/lib/python3.10/dist-packages/keras/src/trainers/data_adapters/py_dataset_adapter.py:121: UserWarning: Your `PyDataset` class should call `super().__init__(**kwargs)` in its constructor. `**kwargs` can include `workers`, `use_multiprocessing`, `max_queue_size`. Do not pass these arguments to `fit()`, as they will be ignored.\n",
            "  self._warn_if_super_not_called()\n",
            "Traceback (most recent call last):\n",
            "  File \"/content/train_model.py\", line 89, in <module>\n",
            "    model.fit(\n",
            "  File \"/usr/local/lib/python3.10/dist-packages/keras/src/utils/traceback_utils.py\", line 122, in error_handler\n",
            "    raise e.with_traceback(filtered_tb) from None\n",
            "  File \"/usr/local/lib/python3.10/dist-packages/keras/src/trainers/data_adapters/py_dataset_adapter.py\", line 295, in get_tf_dataset\n",
            "    raise ValueError(\"The PyDataset has length 0\")\n",
            "ValueError: The PyDataset has length 0\n"
          ]
        }
      ]
    },
    {
      "cell_type": "code",
      "source": [
        "!python test_model.py"
      ],
      "metadata": {
        "colab": {
          "base_uri": "https://localhost:8080/"
        },
        "id": "GKF1rS1-pPAv",
        "outputId": "303bd0f0-64be-4382-a05a-0dfc7cc4f8fc"
      },
      "execution_count": null,
      "outputs": [
        {
          "output_type": "stream",
          "name": "stdout",
          "text": [
            "2025-01-05 08:46:38.332306: E external/local_xla/xla/stream_executor/cuda/cuda_fft.cc:477] Unable to register cuFFT factory: Attempting to register factory for plugin cuFFT when one has already been registered\n",
            "WARNING: All log messages before absl::InitializeLog() is called are written to STDERR\n",
            "E0000 00:00:1736066798.353834    6967 cuda_dnn.cc:8310] Unable to register cuDNN factory: Attempting to register factory for plugin cuDNN when one has already been registered\n",
            "E0000 00:00:1736066798.360054    6967 cuda_blas.cc:1418] Unable to register cuBLAS factory: Attempting to register factory for plugin cuBLAS when one has already been registered\n",
            "2025-01-05 08:46:38.381318: I tensorflow/core/platform/cpu_feature_guard.cc:210] This TensorFlow binary is optimized to use available CPU instructions in performance-critical operations.\n",
            "To enable the following instructions: AVX2 FMA, in other operations, rebuild TensorFlow with the appropriate compiler flags.\n",
            "Traceback (most recent call last):\n",
            "  File \"/content/test_model.py\", line 9, in <module>\n",
            "    from keras.layers.advanced_activations import LeakyReLU\n",
            "ModuleNotFoundError: No module named 'keras.layers.advanced_activations'\n"
          ]
        }
      ]
    }
  ]
}